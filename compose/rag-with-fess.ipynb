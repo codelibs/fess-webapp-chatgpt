{
 "cells": [
  {
   "cell_type": "markdown",
   "id": "7f04acc3-21a9-47cc-8ebd-ccc13ca04f4b",
   "metadata": {},
   "source": [
    "# Retrieval Augmented Generation(RAG) with Fess\n",
    "\n",
    "## Setup\n",
    "\n",
    "### Run Fess\n",
    "\n",
    "```\n",
    "$ docker compose up -d\n",
    "```\n",
    "\n",
    "### Create Web Crawling Config\n",
    "\n",
    "1. Log into Fess as admin\n",
    "2. Click on left menu: Crawler > Web\n",
    "3. Create Web Crawling Config\n",
    "\n",
    "- URL: `https://fess.codelibs.org/`\n",
    "- Included URLs For Crawling: `https://fess.codelibs.org/.*`\n",
    "- Excluded URLs For Crawling: `https://fess.codelibs.org/ja/.*`\n",
    "\n",
    "### Create Access Token\n",
    "\n",
    "1. Click on left menu: System > Access Token\n",
    "2. Create Access Token\n",
    "\n",
    "- Name `ChatGPT`\n",
    "- Permission: `{role}guest`\n",
    "\n",
    "3. Check the Token\n"
   ]
  },
  {
   "cell_type": "code",
   "execution_count": null,
   "id": "37d5c835-cc9f-4c61-ac00-e217f927f9cf",
   "metadata": {},
   "outputs": [],
   "source": [
    "# set it as access_token\n",
    "access_token = \"...\""
   ]
  },
  {
   "cell_type": "markdown",
   "id": "3fa38ca4-a085-4e68-b7ed-5853b1b6bbb4",
   "metadata": {},
   "source": [
    "### Start Crawler\n",
    "\n",
    "1. Clieck on left menu: System > Scheduler\n",
    "2. Start Default Crawler\n",
    "\n",
    "## Run Ollama\n",
    "\n",
    "```\n",
    "$ mkdir ollama\n",
    "$ docker run -v ./ollama:/root/.ollama -p 11434:11434 --name ollama ollama/ollama\n",
    "```\n",
    "\n",
    "If you have GPU, run as below:\n",
    "\n",
    "```\n",
    "$ docker run --gpus=all -v ./ollama:/root/.ollama -p 11434:11434 --name ollama ollama/ollama\n",
    "```\n",
    "\n",
    "For more details, see [Ollama](https://github.com/ollama/ollama).\n",
    "\n",
    "## Install LangChain module\n"
   ]
  },
  {
   "cell_type": "code",
   "execution_count": null,
   "id": "f7be5b73-3422-44f2-b256-8b6967215835",
   "metadata": {
    "scrolled": true
   },
   "outputs": [],
   "source": [
    "!pip install langchain lark"
   ]
  },
  {
   "cell_type": "code",
   "execution_count": null,
   "id": "e9ae71a6-78fb-47e4-9789-af12818f30cf",
   "metadata": {},
   "outputs": [],
   "source": [
    "import re\n",
    "\n",
    "from langchain.chains.combine_documents import create_stuff_documents_chain\n",
    "from langchain.chains import create_retrieval_chain\n",
    "from langchain.prompts import PromptTemplate\n",
    "from langchain.retrievers import ChatGPTPluginRetriever\n",
    "from langchain_community.llms import Ollama\n",
    "from langchain_core.prompts import ChatPromptTemplate"
   ]
  },
  {
   "cell_type": "markdown",
   "id": "bc8d076f-bf5f-4cba-bd4e-deeb455af732",
   "metadata": {},
   "source": [
    "## Create Ollama instance"
   ]
  },
  {
   "cell_type": "code",
   "execution_count": null,
   "id": "f8f2fa22-3197-4a7e-a35e-95ac58617f29",
   "metadata": {},
   "outputs": [],
   "source": [
    "llm = Ollama(model=\"llama2\")"
   ]
  },
  {
   "cell_type": "code",
   "execution_count": null,
   "id": "32fb6109-e210-49e6-a56b-14da2b41acec",
   "metadata": {},
   "outputs": [],
   "source": [
    "# check if ollama works\n",
    "llm.invoke(\"Tell me a joke\")"
   ]
  },
  {
   "cell_type": "markdown",
   "id": "786b1a85-65c9-42c4-97c1-86080a572a74",
   "metadata": {},
   "source": [
    "## Create ChatTemplate for Query Constructor"
   ]
  },
  {
   "cell_type": "code",
   "execution_count": null,
   "id": "07c92fb2-ee0f-4b1a-8508-c90b52127f71",
   "metadata": {},
   "outputs": [],
   "source": [
    "# a template depends on LLM\n",
    "QUERY_CONSTRUCTOR_TEMPLATE = PromptTemplate.from_template(\"Please extract the primary keyword(s) from this sentence, focusing on nouns, proper nouns, or terms central to the sentence's meaning, without explanations: \\\"{query}\\\"\")"
   ]
  },
  {
   "cell_type": "code",
   "execution_count": null,
   "id": "34580135-5eb4-4f3a-87fc-18b27ae7d1c0",
   "metadata": {},
   "outputs": [],
   "source": [
    "# check if the template works\n",
    "QUERY_CONSTRUCTOR_TEMPLATE.format(query=\"How to install Fess\")"
   ]
  },
  {
   "cell_type": "markdown",
   "id": "195a7cd9-d74c-496f-b3c2-b6e2dcba537c",
   "metadata": {},
   "source": [
    "## Create FessTextRetriever"
   ]
  },
  {
   "cell_type": "code",
   "execution_count": null,
   "id": "20afa3af-d0d5-46c5-a377-edcda61cfb5b",
   "metadata": {},
   "outputs": [],
   "source": [
    "class FessTextRetriever(ChatGPTPluginRetriever):\n",
    "\n",
    "    def _extract_query(self, query: str):\n",
    "        # the following code depends on LLM\n",
    "        text = self._lc_kwargs[\"llm\"].invoke(QUERY_CONSTRUCTOR_TEMPLATE.format(query=query))\n",
    "        words = []\n",
    "        for s in text.split(\"\\n\"):\n",
    "            s = s.strip()\n",
    "            if len(s) > 0:\n",
    "                match = re.search(r\"^\\d+\\.\\s*(.*)\", s)\n",
    "                if match:\n",
    "                    words.append(match.group(1))\n",
    "        keyword = \" \".join(words)\n",
    "        return keyword\n",
    "\n",
    "    def _create_request(self, query: str) -> tuple[str, dict, dict]:\n",
    "        url = f\"{self.url}/query\"\n",
    "        json = {\n",
    "            \"queries\": [\n",
    "                {\n",
    "                    \"query\": self._extract_query(query),\n",
    "                    \"filter\": self.filter,\n",
    "                    \"top_k\": self.top_k,\n",
    "                }\n",
    "            ]\n",
    "        }\n",
    "        headers = {\n",
    "            \"Content-Type\": \"application/json\",\n",
    "            \"Authorization\": f\"Bearer {self.bearer_token}\",\n",
    "        }\n",
    "        return url, json, headers"
   ]
  },
  {
   "cell_type": "code",
   "execution_count": null,
   "id": "7496e29f-240c-49f1-821a-feac1f0e91a2",
   "metadata": {},
   "outputs": [],
   "source": [
    "retriever = FessTextRetriever(llm=llm, url=\"http://127.0.0.1:8080/chatgpt\", bearer_token=access_token)"
   ]
  },
  {
   "cell_type": "code",
   "execution_count": null,
   "id": "b636190a-1590-43dc-a99f-f57316c265b7",
   "metadata": {},
   "outputs": [],
   "source": [
    "# check if Fess retriever works\n",
    "retriever.get_relevant_documents(\"What is Fess\")"
   ]
  },
  {
   "cell_type": "markdown",
   "id": "46f240b4-5451-4008-b87a-81876022c7cb",
   "metadata": {},
   "source": [
    "## Create Retrieval Chain"
   ]
  },
  {
   "cell_type": "code",
   "execution_count": null,
   "id": "a3587fba-73ba-4399-b00d-3395589c201c",
   "metadata": {},
   "outputs": [],
   "source": [
    "prompt = ChatPromptTemplate.from_template(\"\"\"Answer the following question based only on the provided context:\n",
    "\n",
    "<context>\n",
    "{context}\n",
    "</context>\n",
    "\n",
    "Question: {input}\"\"\")"
   ]
  },
  {
   "cell_type": "code",
   "execution_count": null,
   "id": "157e26a9-31c3-42d3-abd4-54e48a77be56",
   "metadata": {},
   "outputs": [],
   "source": [
    "chain = create_retrieval_chain(retriever, create_stuff_documents_chain(llm, prompt))"
   ]
  },
  {
   "cell_type": "code",
   "execution_count": null,
   "id": "1bf0fff3-55ad-4539-8ba1-7408973fbe05",
   "metadata": {},
   "outputs": [],
   "source": [
    "response = chain.invoke({\"input\": \"How to install Fess\"})\n",
    "response"
   ]
  },
  {
   "cell_type": "code",
   "execution_count": null,
   "id": "b2b045a0-3ddd-448d-bf39-f893723a2df7",
   "metadata": {},
   "outputs": [],
   "source": [
    "response[\"answer\"]"
   ]
  },
  {
   "cell_type": "code",
   "execution_count": null,
   "id": "bde89635-34e0-4272-9fc3-04cf59a42cfe",
   "metadata": {},
   "outputs": [],
   "source": []
  }
 ],
 "metadata": {
  "kernelspec": {
   "display_name": "Python 3 (ipykernel)",
   "language": "python",
   "name": "python3"
  },
  "language_info": {
   "codemirror_mode": {
    "name": "ipython",
    "version": 3
   },
   "file_extension": ".py",
   "mimetype": "text/x-python",
   "name": "python",
   "nbconvert_exporter": "python",
   "pygments_lexer": "ipython3",
   "version": "3.10.8"
  }
 },
 "nbformat": 4,
 "nbformat_minor": 5
}
